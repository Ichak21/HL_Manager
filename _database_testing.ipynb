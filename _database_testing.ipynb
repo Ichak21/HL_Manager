{
 "cells": [
  {
   "cell_type": "code",
   "execution_count": 3,
   "metadata": {},
   "outputs": [],
   "source": [
    "import app as app\n",
    "from datetime import datetime"
   ]
  },
  {
   "cell_type": "code",
   "execution_count": 4,
   "metadata": {},
   "outputs": [],
   "source": [
    "app.database.init_db()"
   ]
  },
  {
   "cell_type": "code",
   "execution_count": 3,
   "metadata": {},
   "outputs": [],
   "source": [
    "def _create_table_display_dataset():\n",
    "    datas_rows = []\n",
    "    headers = (\"SERIAL\", \"CAUSE\", \"STORAGE\", \"DATE_IN\", \"DATE_OUT\")\n",
    "    datas_rows.append(headers)\n",
    "    all_rm6_off_line = app.find_all_RM6_offline()\n",
    "    \n",
    "    for rm6_found in all_rm6_off_line:\n",
    "        datas_rows.append(rm6_found.display_row_table())\n",
    "    \n",
    "    return datas_rows"
   ]
  },
  {
   "cell_type": "code",
   "execution_count": null,
   "metadata": {},
   "outputs": [],
   "source": [
    "print(_create_table_display_dataset())"
   ]
  },
  {
   "cell_type": "code",
   "execution_count": null,
   "metadata": {},
   "outputs": [],
   "source": [
    "for rm6 in rm6s:\n",
    "    print(rm6.display_row_table())"
   ]
  },
  {
   "cell_type": "code",
   "execution_count": null,
   "metadata": {},
   "outputs": [],
   "source": [
    "\n",
    "list_rm6"
   ]
  },
  {
   "cell_type": "code",
   "execution_count": 5,
   "metadata": {},
   "outputs": [],
   "source": [
    "list_rm6 = []"
   ]
  },
  {
   "cell_type": "code",
   "execution_count": 6,
   "metadata": {},
   "outputs": [],
   "source": [
    "for i in range(111,200,1):\n",
    "    my_rm6 = app.schemas.RM6Create(\n",
    "            serial=f'{i}-RM6',\n",
    "            cause = \"reparation\",\n",
    "            storage=\"area1\",\n",
    "            date_in=datetime.now()\n",
    "            )\n",
    "    list_rm6.append(my_rm6)"
   ]
  },
  {
   "cell_type": "code",
   "execution_count": 7,
   "metadata": {},
   "outputs": [
    {
     "name": "stdout",
     "output_type": "stream",
     "text": [
      "Le RM6 existe déjà sans date de sortie: 111-RM6 | area1\n",
      "Le RM6 existe déjà sans date de sortie: 112-RM6 | area1\n",
      "Le RM6 existe déjà sans date de sortie: 113-RM6 | area1\n",
      "Le RM6 existe déjà sans date de sortie: 114-RM6 | area1\n",
      "Le RM6 existe déjà sans date de sortie: 115-RM6 | area1\n",
      "Le RM6 existe déjà sans date de sortie: 116-RM6 | area1\n",
      "Le RM6 existe déjà sans date de sortie: 117-RM6 | area1\n",
      "Le RM6 existe déjà sans date de sortie: 118-RM6 | area1\n",
      "Le RM6 existe déjà sans date de sortie: 119-RM6 | area1\n",
      "Le RM6 existe déjà sans date de sortie: 120-RM6 | area1\n",
      "Le RM6 existe déjà sans date de sortie: 121-RM6 | area1\n",
      "Le RM6 existe déjà sans date de sortie: 122-RM6 | area1\n",
      "Le RM6 existe déjà sans date de sortie: 123-RM6 | area1\n",
      "Le RM6 existe déjà sans date de sortie: 124-RM6 | area1\n",
      "Le RM6 existe déjà sans date de sortie: 125-RM6 | area1\n",
      "Le RM6 existe déjà sans date de sortie: 126-RM6 | area1\n",
      "Le RM6 existe déjà sans date de sortie: 127-RM6 | area1\n",
      "Le RM6 existe déjà sans date de sortie: 128-RM6 | area1\n",
      "Le RM6 existe déjà sans date de sortie: 129-RM6 | area1\n",
      "Le RM6 existe déjà sans date de sortie: 130-RM6 | area1\n",
      "Le RM6 existe déjà sans date de sortie: 131-RM6 | area1\n",
      "Le RM6 existe déjà sans date de sortie: 132-RM6 | area1\n",
      "Le RM6 existe déjà sans date de sortie: 133-RM6 | area1\n",
      "Le RM6 existe déjà sans date de sortie: 134-RM6 | area1\n",
      "Le RM6 existe déjà sans date de sortie: 135-RM6 | area1\n",
      "Le RM6 existe déjà sans date de sortie: 136-RM6 | area1\n",
      "Le RM6 existe déjà sans date de sortie: 137-RM6 | area1\n",
      "Le RM6 existe déjà sans date de sortie: 138-RM6 | area1\n",
      "Le RM6 existe déjà sans date de sortie: 139-RM6 | area1\n",
      "Le RM6 existe déjà sans date de sortie: 140-RM6 | area1\n",
      "Le RM6 existe déjà sans date de sortie: 141-RM6 | area1\n",
      "Le RM6 existe déjà sans date de sortie: 142-RM6 | area1\n",
      "Le RM6 existe déjà sans date de sortie: 143-RM6 | area1\n",
      "Le RM6 existe déjà sans date de sortie: 144-RM6 | area1\n",
      "Le RM6 existe déjà sans date de sortie: 145-RM6 | area1\n",
      "Le RM6 existe déjà sans date de sortie: 146-RM6 | area1\n",
      "Le RM6 existe déjà sans date de sortie: 147-RM6 | area1\n",
      "Le RM6 existe déjà sans date de sortie: 148-RM6 | area1\n",
      "Le RM6 existe déjà sans date de sortie: 149-RM6 | area1\n",
      "Le RM6 existe déjà sans date de sortie: 150-RM6 | area1\n",
      "Le RM6 existe déjà sans date de sortie: 151-RM6 | area1\n",
      "Le RM6 existe déjà sans date de sortie: 152-RM6 | area1\n",
      "Le RM6 existe déjà sans date de sortie: 153-RM6 | area1\n",
      "Le RM6 existe déjà sans date de sortie: 154-RM6 | area1\n",
      "Le RM6 existe déjà sans date de sortie: 155-RM6 | area1\n",
      "Le RM6 existe déjà sans date de sortie: 156-RM6 | area1\n",
      "Le RM6 existe déjà sans date de sortie: 157-RM6 | area1\n",
      "Le RM6 existe déjà sans date de sortie: 158-RM6 | area1\n",
      "Le RM6 existe déjà sans date de sortie: 159-RM6 | area1\n",
      "Le RM6 existe déjà sans date de sortie: 160-RM6 | area1\n",
      "Le RM6 existe déjà sans date de sortie: 161-RM6 | area1\n",
      "Le RM6 existe déjà sans date de sortie: 162-RM6 | area1\n",
      "Le RM6 existe déjà sans date de sortie: 163-RM6 | area1\n",
      "Le RM6 existe déjà sans date de sortie: 164-RM6 | area1\n",
      "Le RM6 existe déjà sans date de sortie: 165-RM6 | area1\n",
      "Le RM6 existe déjà sans date de sortie: 166-RM6 | area1\n",
      "Le RM6 existe déjà sans date de sortie: 167-RM6 | area1\n",
      "Le RM6 existe déjà sans date de sortie: 168-RM6 | area1\n",
      "Le RM6 existe déjà sans date de sortie: 169-RM6 | area1\n",
      "Le RM6 existe déjà sans date de sortie: 170-RM6 | area1\n",
      "Le RM6 existe déjà sans date de sortie: 171-RM6 | area1\n",
      "Le RM6 existe déjà sans date de sortie: 172-RM6 | area1\n",
      "Le RM6 existe déjà sans date de sortie: 173-RM6 | area1\n",
      "Le RM6 existe déjà sans date de sortie: 174-RM6 | area1\n",
      "Le RM6 existe déjà sans date de sortie: 175-RM6 | area1\n",
      "Le RM6 existe déjà sans date de sortie: 176-RM6 | area1\n",
      "Le RM6 existe déjà sans date de sortie: 177-RM6 | area1\n",
      "Le RM6 existe déjà sans date de sortie: 178-RM6 | area1\n",
      "Le RM6 existe déjà sans date de sortie: 179-RM6 | area1\n",
      "Le RM6 existe déjà sans date de sortie: 180-RM6 | area1\n",
      "Le RM6 existe déjà sans date de sortie: 181-RM6 | area1\n",
      "Le RM6 existe déjà sans date de sortie: 182-RM6 | area1\n",
      "Le RM6 existe déjà sans date de sortie: 183-RM6 | area1\n",
      "Le RM6 existe déjà sans date de sortie: 184-RM6 | area1\n",
      "Le RM6 existe déjà sans date de sortie: 185-RM6 | area1\n",
      "Le RM6 existe déjà sans date de sortie: 186-RM6 | area1\n",
      "Le RM6 existe déjà sans date de sortie: 187-RM6 | area1\n",
      "Le RM6 existe déjà sans date de sortie: 188-RM6 | area1\n",
      "Le RM6 existe déjà sans date de sortie: 189-RM6 | area1\n",
      "Le RM6 existe déjà sans date de sortie: 190-RM6 | area1\n",
      "Le RM6 existe déjà sans date de sortie: 191-RM6 | area1\n",
      "Le RM6 existe déjà sans date de sortie: 192-RM6 | area1\n",
      "Le RM6 existe déjà sans date de sortie: 193-RM6 | area1\n",
      "Le RM6 existe déjà sans date de sortie: 194-RM6 | area1\n",
      "Le RM6 existe déjà sans date de sortie: 195-RM6 | area1\n",
      "Le RM6 existe déjà sans date de sortie: 196-RM6 | area1\n",
      "Le RM6 existe déjà sans date de sortie: 197-RM6 | area1\n",
      "Le RM6 existe déjà sans date de sortie: 198-RM6 | area1\n",
      "Le RM6 existe déjà sans date de sortie: 199-RM6 | area1\n"
     ]
    }
   ],
   "source": [
    "for rm6 in list_rm6:\n",
    "    try:\n",
    "        app.add_offline_RM6(rm6)\n",
    "    except app.exceptions.ErreurRM6Existe as e:\n",
    "        print(e.message)"
   ]
  },
  {
   "cell_type": "code",
   "execution_count": 6,
   "metadata": {},
   "outputs": [],
   "source": [
    "for rm6 in list_rm6:\n",
    "    app.del_offline_RM6(rm6_serial=rm6.serial)"
   ]
  },
  {
   "cell_type": "code",
   "execution_count": null,
   "metadata": {},
   "outputs": [],
   "source": [
    "list_rm6"
   ]
  },
  {
   "cell_type": "code",
   "execution_count": 8,
   "metadata": {},
   "outputs": [],
   "source": [
    "import os"
   ]
  },
  {
   "cell_type": "code",
   "execution_count": 9,
   "metadata": {},
   "outputs": [],
   "source": [
    "# URL de la base de données (ex. SQLite)\n",
    "DATABASE_URL = os.getenv(\"DATABASE_URL\", \"sqlite:///./database/_off_line_v0.db\")"
   ]
  },
  {
   "cell_type": "code",
   "execution_count": 14,
   "metadata": {},
   "outputs": [],
   "source": [
    "import json"
   ]
  },
  {
   "cell_type": "code",
   "execution_count": 13,
   "metadata": {},
   "outputs": [
    {
     "data": {
      "text/plain": [
       "'d:\\\\_WS_Developpement\\\\HL_Manager\\\\Setting.json'"
      ]
     },
     "execution_count": 13,
     "metadata": {},
     "output_type": "execute_result"
    }
   ],
   "source": [
    "import json"
   ]
  },
  {
   "cell_type": "code",
   "execution_count": 15,
   "metadata": {},
   "outputs": [],
   "source": [
    "with open(f'{os.getcwd()}\\Setting.json', 'r') as file:\n",
    "    data = json.load(file)"
   ]
  },
  {
   "cell_type": "code",
   "execution_count": 20,
   "metadata": {},
   "outputs": [
    {
     "name": "stdout",
     "output_type": "stream",
     "text": [
      "Missing Part\n",
      "Demande Expertise\n",
      "Autre\n"
     ]
    }
   ],
   "source": [
    "for cause in data[\"settings\"][\"causes\"]:\n",
    "    print(cause[\"name\"])"
   ]
  },
  {
   "cell_type": "code",
   "execution_count": 21,
   "metadata": {},
   "outputs": [],
   "source": [
    "cause = {cause[\"name\"]: cause[\"color\"]for cause in data [\"settings\"][\"causes\"]}"
   ]
  },
  {
   "cell_type": "code",
   "execution_count": 22,
   "metadata": {},
   "outputs": [
    {
     "data": {
      "text/plain": [
       "{'Missing Part': '#68AFDD', 'Demande Expertise': '#DAC73D', 'Autre': '#DAC73D'}"
      ]
     },
     "execution_count": 22,
     "metadata": {},
     "output_type": "execute_result"
    }
   ],
   "source": [
    "cause.s"
   ]
  },
  {
   "cell_type": "code",
   "execution_count": 23,
   "metadata": {},
   "outputs": [
    {
     "data": {
      "text/plain": [
       "3"
      ]
     },
     "execution_count": 23,
     "metadata": {},
     "output_type": "execute_result"
    }
   ],
   "source": [
    "len(cause)"
   ]
  },
  {
   "cell_type": "code",
   "execution_count": 27,
   "metadata": {},
   "outputs": [
    {
     "name": "stdout",
     "output_type": "stream",
     "text": [
      "#68AFDD\n",
      "#DAC73D\n",
      "#DAC73D\n"
     ]
    }
   ],
   "source": [
    "for cle in cause:\n",
    "    print(cause.get(cle))"
   ]
  },
  {
   "cell_type": "code",
   "execution_count": null,
   "metadata": {},
   "outputs": [],
   "source": []
  }
 ],
 "metadata": {
  "kernelspec": {
   "display_name": "artfact",
   "language": "python",
   "name": "python3"
  },
  "language_info": {
   "codemirror_mode": {
    "name": "ipython",
    "version": 3
   },
   "file_extension": ".py",
   "mimetype": "text/x-python",
   "name": "python",
   "nbconvert_exporter": "python",
   "pygments_lexer": "ipython3",
   "version": "3.11.9"
  }
 },
 "nbformat": 4,
 "nbformat_minor": 2
}
